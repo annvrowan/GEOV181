{
  "nbformat": 4,
  "nbformat_minor": 0,
  "metadata": {
    "colab": {
      "provenance": [],
      "authorship_tag": "ABX9TyOhnxeb65LxROV0rNm3bwrb",
      "include_colab_link": true
    },
    "kernelspec": {
      "name": "python3",
      "display_name": "Python 3"
    },
    "language_info": {
      "name": "python"
    }
  },
  "cells": [
    {
      "cell_type": "markdown",
      "metadata": {
        "id": "view-in-github",
        "colab_type": "text"
      },
      "source": [
        "<a href=\"https://colab.research.google.com/github/annvrowan/GEOV181/blob/main/GEOV181_Weather.ipynb\" target=\"_parent\"><img src=\"https://colab.research.google.com/assets/colab-badge.svg\" alt=\"Open In Colab\"/></a>"
      ]
    },
    {
      "cell_type": "markdown",
      "source": [
        "# GEOV181: Weather\n",
        "\n",
        "This week we will look at how we can use publicly available data to describe the weather in Bergen, how weather patterns vary over time and space, and what are the uncertainties associated with our descriptions of the weather.\n",
        "\n",
        "\n",
        "## How does this exercise work?\n",
        "\n",
        "This exercise is a [Jupyter](https://jupyter.org/) notebook. A Jupyter notebook contains a mix of text blocks and [Python](https://www.python.org/) code blocks that you can run yourself. The text blocks are used to explain the data analysis workflow of this exercise. The data analysis itself is performed in blocks of Python code. The Python code blocks contain a mix of actual code and comments, which start with `#` and which describe what each line of code below does.\n",
        "\n",
        "[Python](https://www.python.org/) is a programming language that is relatively easy to learn. A progamming language is a instruction language for a computer to make it do things that we find useful, such as analysing climate data, for us. Thanks to its accessibility Python has become the most popular programming language in science.\n",
        "\n",
        "We will run this notebook in [Google Colab](https://colab.research.google.com/). Google Colab gives us the opportunity to run this notebook online and in a web browser, which is the easiest way to complete this exercise.\n",
        "\n",
        "Note: If you prefer not to use Google then you can also run this notebook on your own computer. This requires installing Python and Jupyter on your own machine. The easiest to get things running is to install the Python distribution Anaconda: https://www.anaconda.com/download/ (notice the odd preference for snake names in the Python world). This may require a bit more fiddling, but your instructors for this exercise are happy to help out."
      ],
      "metadata": {
        "id": "EkTiGhaq4CoM"
      }
    },
    {
      "cell_type": "code",
      "execution_count": null,
      "metadata": {
        "id": "o9AWwEwG0rWZ"
      },
      "outputs": [],
      "source": []
    }
  ]
}